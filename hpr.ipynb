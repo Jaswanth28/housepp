{
 "cells": [
  {
   "cell_type": "code",
   "execution_count": null,
   "metadata": {},
   "outputs": [],
   "source": [
    "from PyQt5 import uic,QtWidgets,QtGui\n",
    "import pandas as pd\n",
    "from PyQt5.QtWidgets import * \n",
    "import sys\n",
    "import pandas as pd\n",
    "import numpy  as np\n",
    "import pickle"
   ]
  },
  {
   "cell_type": "code",
   "execution_count": null,
   "metadata": {},
   "outputs": [],
   "source": [
    "with open('pred_pkl','rb') as f:\n",
    "    model=pickle.load(f)"
   ]
  },
  {
   "cell_type": "code",
   "execution_count": null,
   "metadata": {},
   "outputs": [],
   "source": [
    "def tth(x1,x2,x3,x4,x5,x6):\n",
    "    obs=[[x1,x2,x3,x4,x5,x6]]\n",
    "    print(obs)\n",
    "    z=model.predict(obs)\n",
    "    print(z)\n",
    "    o=(f'Predicted House Price: {z[0]}')\n",
    "    m.res.setText(o)"
   ]
  },
  {
   "cell_type": "code",
   "execution_count": null,
   "metadata": {},
   "outputs": [],
   "source": [
    "def ll():\n",
    "    x1=m.bed.currentIndex()-1\n",
    "    x2=m.bath.currentIndex()-1\n",
    "    x3=m.fur.currentIndex()-1\n",
    "    x4=m.tt.currentIndex()-1\n",
    "    x5=m.area.text()\n",
    "    x6=m.loc.currentIndex()-1\n",
    "    s=[x1,x2,x3,x4,x6]\n",
    "    c=0\n",
    "    z=0\n",
    "    for i in s :\n",
    "        if i==-1:\n",
    "            m.res.setText('enter valid values')\n",
    "        else:\n",
    "            c+=1\n",
    "    if x5=='':\n",
    "        m.res.setText('enter valid values')\n",
    "    else:\n",
    "        z=1\n",
    "    if c==5 and z==1:\n",
    "        m.res.clear()\n",
    "        tth(x1,x2,x3,x4,x5,x6)\n",
    "            "
   ]
  },
  {
   "cell_type": "code",
   "execution_count": null,
   "metadata": {},
   "outputs": [],
   "source": [
    "j=QtWidgets.QApplication([])\n",
    "r=0\n",
    "m=uic.loadUi('ut1.ui')\n",
    "m.show()\n",
    "m.setWindowTitle('Home')\n",
    "m.pred.clicked.connect(ll)\n",
    "sys.exit(j.exec_())"
   ]
  }
 ],
 "metadata": {
  "kernelspec": {
   "display_name": "Python 3",
   "language": "python",
   "name": "python3"
  },
  "language_info": {
   "codemirror_mode": {
    "name": "ipython",
    "version": 3
   },
   "file_extension": ".py",
   "mimetype": "text/x-python",
   "name": "python",
   "nbconvert_exporter": "python",
   "pygments_lexer": "ipython3",
   "version": "3.10.6"
  },
  "orig_nbformat": 4
 },
 "nbformat": 4,
 "nbformat_minor": 2
}
