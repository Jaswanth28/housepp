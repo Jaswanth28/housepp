{
 "cells": [
  {
   "cell_type": "code",
   "execution_count": 1,
   "metadata": {},
   "outputs": [],
   "source": [
    "from PyQt5 import uic,QtWidgets,QtGui\n",
    "import pandas as pd\n",
    "from PyQt5.QtWidgets import * \n",
    "import sys\n",
    "import pandas as pd\n",
    "import numpy  as np\n",
    "import pickle\n",
    "import git\n",
    "import os\n",
    "import shutil"
   ]
  },
  {
   "cell_type": "code",
   "execution_count": 2,
   "metadata": {},
   "outputs": [
    {
     "name": "stdout",
     "output_type": "stream",
     "text": [
      "Repository 'models' already exists\n"
     ]
    }
   ],
   "source": [
    "repo_url = \"https://github.com/jaswanth28/models\"\n",
    "repo_name = \"models\"\n",
    "\n",
    "if os.path.isdir(repo_name):\n",
    "    print(f\"Repository '{repo_name}' already exists\")\n",
    "else:\n",
    "    print(f\"Cloning repository '{repo_name}'...\")\n",
    "    git.Repo.clone_from(repo_url, repo_name)\n",
    "    print(f\"Repository '{repo_name}' cloned successfully\")"
   ]
  },
  {
   "cell_type": "code",
   "execution_count": 3,
   "metadata": {},
   "outputs": [],
   "source": [
    "def update_local_files_if_changed(repo_path=\"models\"):\n",
    "    repo = git.Repo(repo_path)\n",
    "    repo.remotes.origin.fetch()\n",
    "    remote_commit = repo.git.rev_parse(\"origin/master\")\n",
    "    try:\n",
    "        with open(os.path.join(repo_path, \".git\", \"refs\", \"heads\", \"master\"), \"r\") as f:\n",
    "            local_commit = f.read().strip()\n",
    "    except FileNotFoundError:\n",
    "        local_commit = \"\"\n",
    "\n",
    "    if remote_commit != local_commit:\n",
    "        print(\"Updating local files with changes from Git repository...\")\n",
    "        repo.git.reset(\"--hard\", \"origin/master\")\n",
    "        print(\"Local files updated successfully.\")\n",
    "    else:\n",
    "        print(\"Local files are up-to-date with the Git repository.\")"
   ]
  },
  {
   "cell_type": "code",
   "execution_count": 4,
   "metadata": {},
   "outputs": [],
   "source": [
    "def update():\n",
    "    update_local_files_if_changed()"
   ]
  },
  {
   "cell_type": "code",
   "execution_count": 5,
   "metadata": {},
   "outputs": [],
   "source": [
    "with open('models/pred_pkl','rb') as f:\n",
    "    model=pickle.load(f)"
   ]
  },
  {
   "cell_type": "code",
   "execution_count": 6,
   "metadata": {},
   "outputs": [],
   "source": [
    "def tth(x1,x2,x3,x4,x5,x6):\n",
    "    obs=[[x1,x2,x3,x4,x5,x6]]\n",
    "    z=model.predict(obs)\n",
    "    print(z)\n",
    "    o=(f'Predicted House Price: {z[0]}')\n",
    "    m.res.setText(o)"
   ]
  },
  {
   "cell_type": "code",
   "execution_count": 7,
   "metadata": {},
   "outputs": [],
   "source": [
    "def ll():\n",
    "    x1=m.bed.currentIndex()-1\n",
    "    x2=m.bath.currentIndex()-1\n",
    "    x3=m.fur.currentIndex()-1\n",
    "    x4=m.tt.currentIndex()-1\n",
    "    x5=int(m.area.text())\n",
    "    x6=m.loc.currentIndex()-1\n",
    "    s=[x1,x2,x3,x4,x6]\n",
    "    c=0\n",
    "    z=0\n",
    "    for i in s :\n",
    "        if i==-1:\n",
    "            m.res.setText('enter valid values')\n",
    "        else:\n",
    "            c+=1\n",
    "    if x5=='':\n",
    "        m.res.setText('enter valid values')\n",
    "    else:\n",
    "        z=1\n",
    "    if c==5 and z==1:\n",
    "        m.res.clear()\n",
    "        tth(x1,x2,x3,x4,x5,x6)\n",
    "            "
   ]
  },
  {
   "cell_type": "code",
   "execution_count": 8,
   "metadata": {},
   "outputs": [
    {
     "name": "stdout",
     "output_type": "stream",
     "text": [
      "Local files are up-to-date with the Git repository.\n",
      "[[3, 3, 3, 3, 52000, 3]]\n",
      "[819717.94824192]\n"
     ]
    },
    {
     "name": "stderr",
     "output_type": "stream",
     "text": [
      "c:\\Users\\Jaswanth\\AppData\\Local\\Programs\\Python\\Python310\\lib\\site-packages\\sklearn\\base.py:439: UserWarning: X does not have valid feature names, but LinearRegression was fitted with feature names\n",
      "  warnings.warn(\n"
     ]
    },
    {
     "name": "stdout",
     "output_type": "stream",
     "text": [
      "[[5, 1, 4, 5, 5200, 1]]\n",
      "[82795.82041163]\n"
     ]
    },
    {
     "name": "stderr",
     "output_type": "stream",
     "text": [
      "c:\\Users\\Jaswanth\\AppData\\Local\\Programs\\Python\\Python310\\lib\\site-packages\\sklearn\\base.py:439: UserWarning: X does not have valid feature names, but LinearRegression was fitted with feature names\n",
      "  warnings.warn(\n"
     ]
    },
    {
     "ename": "SystemExit",
     "evalue": "0",
     "output_type": "error",
     "traceback": [
      "An exception has occurred, use %tb to see the full traceback.\n",
      "\u001b[1;31mSystemExit\u001b[0m\u001b[1;31m:\u001b[0m 0\n"
     ]
    },
    {
     "name": "stderr",
     "output_type": "stream",
     "text": [
      "C:\\Users\\Jaswanth\\AppData\\Roaming\\Python\\Python310\\site-packages\\IPython\\core\\interactiveshell.py:3450: UserWarning: To exit: use 'exit', 'quit', or Ctrl-D.\n",
      "  warn(\"To exit: use 'exit', 'quit', or Ctrl-D.\", stacklevel=1)\n"
     ]
    }
   ],
   "source": [
    "j=QtWidgets.QApplication([])\n",
    "r=0\n",
    "m=uic.loadUi('ut1.ui')\n",
    "m.show()\n",
    "m.setWindowIcon(QtGui.QIcon('pjkt.jpg'))\n",
    "m.setWindowTitle('Home')\n",
    "m.pred.clicked.connect(ll)\n",
    "m.upd.clicked.connect(update)\n",
    "sys.exit(j.exec_())"
   ]
  }
 ],
 "metadata": {
  "kernelspec": {
   "display_name": "Python 3",
   "language": "python",
   "name": "python3"
  },
  "language_info": {
   "codemirror_mode": {
    "name": "ipython",
    "version": 3
   },
   "file_extension": ".py",
   "mimetype": "text/x-python",
   "name": "python",
   "nbconvert_exporter": "python",
   "pygments_lexer": "ipython3",
   "version": "3.10.6"
  },
  "orig_nbformat": 4
 },
 "nbformat": 4,
 "nbformat_minor": 2
}
